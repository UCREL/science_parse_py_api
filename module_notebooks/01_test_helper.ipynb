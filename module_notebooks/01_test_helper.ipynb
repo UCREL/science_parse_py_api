{
 "cells": [
  {
   "cell_type": "code",
   "execution_count": null,
   "id": "durable-surname",
   "metadata": {},
   "outputs": [],
   "source": [
    "# default_exp test_helper"
   ]
  },
  {
   "cell_type": "markdown",
   "id": "human-thong",
   "metadata": {},
   "source": [
    "# Test Helper \n",
    "> Helper functions for the tests that are written for this python package"
   ]
  },
  {
   "cell_type": "code",
   "execution_count": null,
   "id": "incredible-animation",
   "metadata": {},
   "outputs": [],
   "source": [
    "# export\n",
    "\n",
    "from pathlib import Path\n",
    "\n",
    "def test_data_dir(test_data_dir_name: str = 'test_data') -> Path:\n",
    "    '''\n",
    "    1. **test_data_dir_name** -- Name of the test data folder.\n",
    "    \n",
    "    **returns** the directory to the test data folder.\n",
    "    \n",
    "    A lot of this code has been taken and slightly adapted form the \n",
    "    [Config class](https://github.com/fastai/fastcore/blob/875988a7ed359a3eb16fd2166bf8fb42b190881c/fastcore/foundation.py#L255)\n",
    "    from the [fast core library.](https://github.com/fastai/fastcore)\n",
    "    '''\n",
    "    cwd_dir = Path.cwd()\n",
    "    while cwd_dir != cwd_dir.parent and not (cwd_dir/test_data_dir_name).exists(): \n",
    "        cwd_dir = cwd_dir.parent\n",
    "    test_data_dir_path = Path(cwd_dir, test_data_dir_name)\n",
    "    if not test_data_dir_path.exists():\n",
    "        raise FileNotFoundError('Cannot find test data folder '\n",
    "                                f'{test_data_dir_name}')\n",
    "    return test_data_dir_path.resolve()\n",
    "    "
   ]
  },
  {
   "cell_type": "code",
   "execution_count": null,
   "id": "composite-sunrise",
   "metadata": {},
   "outputs": [],
   "source": [
    "# hide\n",
    "import pytest\n",
    "\n",
    "from science_parse_api.test_helper import test_data_dir\n",
    "\n",
    "def test_test_data_dir():\n",
    "    assert test_data_dir()\n",
    "    with pytest.raises(FileNotFoundError):\n",
    "        test_data_dir('nothing')\n",
    "\n",
    "test_test_data_dir()"
   ]
  }
 ],
 "metadata": {
  "kernelspec": {
   "display_name": "Python 3.6.7 64-bit",
   "language": "python",
   "name": "python36764bit70788dbfbedc4336877e02479621d970"
  }
 },
 "nbformat": 4,
 "nbformat_minor": 5
}
